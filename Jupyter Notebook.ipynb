{
 "cells": [
  {
   "cell_type": "markdown",
   "metadata": {},
   "source": [
    "<center>\n",
    "    <img src=\"https://s3-api.us-geo.objectstorage.softlayer.net/cf-courses-data/CognitiveClass/Logos/organization_logo/organization_logo.png\" width=\"300\" alt=\"cognitiveclass.ai logo\"  />\n",
    "</center>\n"
   ]
  },
  {
   "cell_type": "markdown",
   "metadata": {
    "tags": []
   },
   "source": [
    "#### Add your code below following the instructions given in the course\n"
   ]
  },
  {
   "cell_type": "markdown",
   "metadata": {},
   "source": [
    "# My Jupyter Notebook on IBM Watson Studio"
   ]
  },
  {
   "cell_type": "markdown",
   "metadata": {},
   "source": [
    "<b> Zeya Zhang </b> \n",
    "\n",
    "Data Analyst"
   ]
  },
  {
   "cell_type": "markdown",
   "metadata": {},
   "source": [
    "_I am interested in data science because I have been dealing with a lot of agricultural data before._"
   ]
  },
  {
   "cell_type": "markdown",
   "metadata": {},
   "source": [
    "### The next cell will calculate the area of a rectangle with length of 3cm and width of 2cm."
   ]
  },
  {
   "cell_type": "code",
   "execution_count": 13,
   "metadata": {},
   "outputs": [
    {
     "name": "stdout",
     "output_type": "stream",
     "text": [
      "Area of the rectangle is 6 square centimeter.\n"
     ]
    }
   ],
   "source": [
    "length = 3\n",
    "width = 2\n",
    "area = length * width\n",
    "print('Area of the rectangle is',area,'square centimeter.')"
   ]
  },
  {
   "cell_type": "markdown",
   "metadata": {
    "tags": []
   },
   "source": [
    "Thanks for reviewing my notebook: \n",
    "1. Hope this course works for you\n",
    "2. Good luck \n",
    "\n",
    "I think it is a good course\n",
    "***\n",
    "\n",
    "```python\n",
    "length = 3            \n",
    "width = 2         \n",
    "print('Area of the rectangle is',area,'square centimeter.')\n",
    "```\n",
    "\n",
    "* Next Step\n",
    "   \n",
    "   `Just a few words`\n",
    "   \n",
    "   \n",
    "* Here is the link to course: [IBM Data Science Professional Certificate](https://www.coursera.org/professional-certificates/ibm-data-science \"Enroll\")\n",
    "  \n",
    "# The possibility of finishing the online course is 0\n",
    "![alt text][logo]\n",
    "\n",
    "[logo]: https://i.imgur.com/Tm1Gm8x.jpg \"Glory Glory Man Utd\"\n",
    "   \n",
    "   >“A person who won't read has no advantage over one who can't read.”\n",
    "― Mark Twain\n",
    "\n",
    "~~It's not the size of the dog in the fight, it's the size of the fight in the dog.~~\n"
   ]
  }
 ],
 "metadata": {
  "kernelspec": {
   "display_name": "Python",
   "language": "python",
   "name": "conda-env-python-py"
  },
  "language_info": {
   "codemirror_mode": {
    "name": "ipython",
    "version": 3
   },
   "file_extension": ".py",
   "mimetype": "text/x-python",
   "name": "python",
   "nbconvert_exporter": "python",
   "pygments_lexer": "ipython3",
   "version": "3.7.12"
  }
 },
 "nbformat": 4,
 "nbformat_minor": 4
}
